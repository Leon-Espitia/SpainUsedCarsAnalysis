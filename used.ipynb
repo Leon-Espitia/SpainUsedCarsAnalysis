{
 "cells": [
  {
   "cell_type": "code",
   "execution_count": 230,
   "metadata": {},
   "outputs": [],
   "source": [
    "import pandas as pd"
   ]
  },
  {
   "cell_type": "code",
   "execution_count": 231,
   "metadata": {},
   "outputs": [],
   "source": [
    "#Reading dataset\n",
    "df = pd.read_csv('./used_cars_data.csv')"
   ]
  },
  {
   "cell_type": "code",
   "execution_count": 289,
   "metadata": {},
   "outputs": [],
   "source": [
    "#Formating new dataset\n",
    "df.to_csv('Spain_UsedCars',sep=',', index=False)"
   ]
  },
  {
   "cell_type": "code",
   "execution_count": 247,
   "metadata": {},
   "outputs": [],
   "source": [
    "#Dropping useless columns\n",
    "df = df.drop(columns= 'Unnamed: 0')"
   ]
  },
  {
   "cell_type": "code",
   "execution_count": 285,
   "metadata": {},
   "outputs": [
    {
     "name": "stdout",
     "output_type": "stream",
     "text": [
      "display.precision : int\n",
      "    Floating point output precision in terms of number of places after the\n",
      "    decimal, for regular formatting as well as scientific notation. Similar\n",
      "    to ``precision`` in :meth:`numpy.set_printoptions`.\n",
      "    [default: 6] [currently: 2]\n",
      "styler.format.precision : int\n",
      "    The precision for floats and complex numbers.\n",
      "    [default: 6] [currently: 6]\n"
     ]
    }
   ],
   "source": [
    "pd.describe_option('precision')"
   ]
  },
  {
   "cell_type": "code",
   "execution_count": 287,
   "metadata": {},
   "outputs": [],
   "source": [
    "#Setting the floating point up\n",
    "pd.set_option('display.precision',2)\n"
   ]
  },
  {
   "cell_type": "code",
   "execution_count": 290,
   "metadata": {},
   "outputs": [],
   "source": [
    "#Saving transformed dataset\n",
    "df.to_csv('Spain_UsedCars',sep=',', index=False)"
   ]
  },
  {
   "cell_type": "code",
   "execution_count": 291,
   "metadata": {},
   "outputs": [
    {
     "data": {
      "text/html": [
       "<div>\n",
       "<style scoped>\n",
       "    .dataframe tbody tr th:only-of-type {\n",
       "        vertical-align: middle;\n",
       "    }\n",
       "\n",
       "    .dataframe tbody tr th {\n",
       "        vertical-align: top;\n",
       "    }\n",
       "\n",
       "    .dataframe thead th {\n",
       "        text-align: right;\n",
       "    }\n",
       "</style>\n",
       "<table border=\"1\" class=\"dataframe\">\n",
       "  <thead>\n",
       "    <tr style=\"text-align: right;\">\n",
       "      <th></th>\n",
       "      <th>brand</th>\n",
       "      <th>model</th>\n",
       "      <th>price (eur)</th>\n",
       "      <th>engine</th>\n",
       "      <th>year</th>\n",
       "      <th>mileage (kms)</th>\n",
       "      <th>fuel</th>\n",
       "      <th>gearbox</th>\n",
       "      <th>location</th>\n",
       "    </tr>\n",
       "  </thead>\n",
       "  <tbody>\n",
       "    <tr>\n",
       "      <th>0</th>\n",
       "      <td>SEAT</td>\n",
       "      <td>Ibiza</td>\n",
       "      <td>8990</td>\n",
       "      <td>SC 1.2 TSI 90cv Style</td>\n",
       "      <td>2016</td>\n",
       "      <td>67000</td>\n",
       "      <td>Gasolina</td>\n",
       "      <td>Manual</td>\n",
       "      <td>Granollers</td>\n",
       "    </tr>\n",
       "    <tr>\n",
       "      <th>1</th>\n",
       "      <td>Hyundai</td>\n",
       "      <td>i30</td>\n",
       "      <td>9990</td>\n",
       "      <td>1.6 CRDi 110cv Tecno</td>\n",
       "      <td>2014</td>\n",
       "      <td>104868</td>\n",
       "      <td>Diésel</td>\n",
       "      <td>Manual</td>\n",
       "      <td>Viladecans</td>\n",
       "    </tr>\n",
       "    <tr>\n",
       "      <th>2</th>\n",
       "      <td>BMW</td>\n",
       "      <td>Serie 5</td>\n",
       "      <td>13490</td>\n",
       "      <td>530d Touring</td>\n",
       "      <td>2011</td>\n",
       "      <td>137566</td>\n",
       "      <td>Diésel</td>\n",
       "      <td>Automatica</td>\n",
       "      <td>Viladecans</td>\n",
       "    </tr>\n",
       "    <tr>\n",
       "      <th>3</th>\n",
       "      <td>Volkswagen</td>\n",
       "      <td>Golf</td>\n",
       "      <td>24990</td>\n",
       "      <td>GTI 2.0 TSI 169kW (230CV)</td>\n",
       "      <td>2018</td>\n",
       "      <td>44495</td>\n",
       "      <td>Gasolina</td>\n",
       "      <td>Manual</td>\n",
       "      <td>Viladecans</td>\n",
       "    </tr>\n",
       "    <tr>\n",
       "      <th>4</th>\n",
       "      <td>Opel</td>\n",
       "      <td>Corsa</td>\n",
       "      <td>10460</td>\n",
       "      <td>1.4 Expression 90 CV</td>\n",
       "      <td>2016</td>\n",
       "      <td>69800</td>\n",
       "      <td>Gasolina</td>\n",
       "      <td>Manual</td>\n",
       "      <td>Sabadell 1</td>\n",
       "    </tr>\n",
       "  </tbody>\n",
       "</table>\n",
       "</div>"
      ],
      "text/plain": [
       "        brand    model  price (eur)                     engine  year  \\\n",
       "0        SEAT    Ibiza         8990      SC 1.2 TSI 90cv Style  2016   \n",
       "1     Hyundai      i30         9990       1.6 CRDi 110cv Tecno  2014   \n",
       "2         BMW  Serie 5        13490               530d Touring  2011   \n",
       "3  Volkswagen     Golf        24990  GTI 2.0 TSI 169kW (230CV)  2018   \n",
       "4        Opel    Corsa        10460       1.4 Expression 90 CV  2016   \n",
       "\n",
       "   mileage (kms)      fuel     gearbox    location  \n",
       "0          67000  Gasolina      Manual  Granollers  \n",
       "1         104868    Diésel      Manual  Viladecans  \n",
       "2         137566    Diésel  Automatica  Viladecans  \n",
       "3          44495  Gasolina      Manual  Viladecans  \n",
       "4          69800  Gasolina      Manual  Sabadell 1  "
      ]
     },
     "execution_count": 291,
     "metadata": {},
     "output_type": "execute_result"
    }
   ],
   "source": [
    "df.head(5)"
   ]
  }
 ],
 "metadata": {
  "kernelspec": {
   "display_name": "Python 3",
   "language": "python",
   "name": "python3"
  },
  "language_info": {
   "codemirror_mode": {
    "name": "ipython",
    "version": 3
   },
   "file_extension": ".py",
   "mimetype": "text/x-python",
   "name": "python",
   "nbconvert_exporter": "python",
   "pygments_lexer": "ipython3",
   "version": "3.10.6"
  },
  "orig_nbformat": 4,
  "vscode": {
   "interpreter": {
    "hash": "4db17ef6f8887cb993e09c38e82fe60608247a34739cc8dffe3498b61f09b64b"
   }
  }
 },
 "nbformat": 4,
 "nbformat_minor": 2
}
